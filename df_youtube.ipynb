{
 "cells": [
  {
   "cell_type": "code",
   "execution_count": 1,
   "metadata": {},
   "outputs": [],
   "source": [
    "import pandas as pd\n",
    "import matplotlib.pyplot as plt"
   ]
  },
  {
   "cell_type": "code",
   "execution_count": 2,
   "metadata": {},
   "outputs": [],
   "source": [
    "# Leer el DataFrame desde el archivo CSV\n",
    "df = pd.read_csv('comentarios_mejorados.csv')"
   ]
  },
  {
   "cell_type": "code",
   "execution_count": 3,
   "metadata": {},
   "outputs": [
    {
     "name": "stdout",
     "output_type": "stream",
     "text": [
      "Primeras filas del DataFrame:\n",
      "                  channelId      videoId  \\\n",
      "0  UCmb0LnmFYceH7toqgmUTJDA  nte0e0p4gwk   \n",
      "1  UCmb0LnmFYceH7toqgmUTJDA  nte0e0p4gwk   \n",
      "2  UCmb0LnmFYceH7toqgmUTJDA  nte0e0p4gwk   \n",
      "3  UCmb0LnmFYceH7toqgmUTJDA  nte0e0p4gwk   \n",
      "4  UCmb0LnmFYceH7toqgmUTJDA  nte0e0p4gwk   \n",
      "\n",
      "                                         textDisplay  \\\n",
      "0  este enero no decepcionó, space for the unboun...   \n",
      "1  Oportunidad perdida de crear algo totalmente n...   \n",
      "2  De verdad que el Game pass es un servicio muy ...   \n",
      "3                                    Juegazo es poco   \n",
      "4  Ole x un juego que pega en lo verdaderamente d...   \n",
      "\n",
      "                                        textOriginal  \\\n",
      "0  este enero no decepcionó, space for the unboun...   \n",
      "1  Oportunidad perdida de crear algo totalmente n...   \n",
      "2  De verdad que el Game pass es un servicio muy ...   \n",
      "3                                    Juegazo es poco   \n",
      "4  Ole x un juego que pega en lo verdaderamente d...   \n",
      "\n",
      "                 authorDisplayName  \\\n",
      "0                    @elsenorx3777   \n",
      "1                       @Azadkanjo   \n",
      "2  @miltonfernandoraigosachala3900   \n",
      "3                        @nyxo1005   \n",
      "4                       @aaronz747   \n",
      "\n",
      "                               authorProfileImageUrl  \\\n",
      "0  https://yt3.ggpht.com/4N9lEqES_T5FL8DF_fB5i6L5...   \n",
      "1  https://yt3.ggpht.com/ytc/AIf8zZRQvhP0Jmrx-5BE...   \n",
      "2  https://yt3.ggpht.com/ytc/AIf8zZSJ90r3fzKmSa30...   \n",
      "3  https://yt3.ggpht.com/0ydtKDrZdWrYK0DwfXK0V6ku...   \n",
      "4  https://yt3.ggpht.com/ytc/AIf8zZSWy_y-x-k3Snrg...   \n",
      "\n",
      "                                    authorChannelUrl  \\\n",
      "0  http://www.youtube.com/channel/UCq9IiToLNaYzd0...   \n",
      "1  http://www.youtube.com/channel/UCn-VrtvNihLDSb...   \n",
      "2  http://www.youtube.com/channel/UC88PkqZu5Y_Y5y...   \n",
      "3  http://www.youtube.com/channel/UCY3eXVkqR535US...   \n",
      "4  http://www.youtube.com/channel/UCWspD3UXKbNCdg...   \n",
      "\n",
      "                         authorChannelId  canRate viewerRating  likeCount  \\\n",
      "0  {'value': 'UCq9IiToLNaYzd0GkfUbtfkA'}     True         none          0   \n",
      "1  {'value': 'UCn-VrtvNihLDSbV4AzZVj4w'}     True         none          1   \n",
      "2  {'value': 'UC88PkqZu5Y_Y5y4OPlZrJrA'}     True         none          3   \n",
      "3  {'value': 'UCY3eXVkqR535USdjTR47JRg'}     True         none          0   \n",
      "4  {'value': 'UCWspD3UXKbNCdgoCBJjFOkw'}     True         none          0   \n",
      "\n",
      "            publishedAt             updatedAt parentId  \n",
      "0  2023-04-06T01:30:11Z  2023-04-06T01:30:11Z      NaN  \n",
      "1  2023-03-10T10:01:46Z  2023-03-10T10:01:46Z      NaN  \n",
      "2  2023-03-03T00:41:54Z  2023-03-03T00:41:54Z      NaN  \n",
      "3  2023-02-16T10:40:44Z  2023-02-16T10:40:44Z      NaN  \n",
      "4  2023-02-14T05:41:19Z  2023-02-14T05:41:19Z      NaN  \n",
      "\n",
      "Información general sobre el DataFrame:\n",
      "<class 'pandas.core.frame.DataFrame'>\n",
      "RangeIndex: 182 entries, 0 to 181\n",
      "Data columns (total 14 columns):\n",
      " #   Column                 Non-Null Count  Dtype \n",
      "---  ------                 --------------  ----- \n",
      " 0   channelId              182 non-null    object\n",
      " 1   videoId                63 non-null     object\n",
      " 2   textDisplay            182 non-null    object\n",
      " 3   textOriginal           182 non-null    object\n",
      " 4   authorDisplayName      182 non-null    object\n",
      " 5   authorProfileImageUrl  182 non-null    object\n",
      " 6   authorChannelUrl       182 non-null    object\n",
      " 7   authorChannelId        182 non-null    object\n",
      " 8   canRate                182 non-null    bool  \n",
      " 9   viewerRating           182 non-null    object\n",
      " 10  likeCount              182 non-null    int64 \n",
      " 11  publishedAt            182 non-null    object\n",
      " 12  updatedAt              182 non-null    object\n",
      " 13  parentId               119 non-null    object\n",
      "dtypes: bool(1), int64(1), object(12)\n",
      "memory usage: 18.8+ KB\n",
      "None\n"
     ]
    }
   ],
   "source": [
    "# Visualizar las primeras filas del DataFrame\n",
    "print(\"Primeras filas del DataFrame:\")\n",
    "print(df.head())\n",
    "\n",
    "# Obtener información general sobre el DataFrame\n",
    "print(\"\\nInformación general sobre el DataFrame:\")\n",
    "print(df.info())"
   ]
  },
  {
   "cell_type": "code",
   "execution_count": 4,
   "metadata": {},
   "outputs": [
    {
     "name": "stdout",
     "output_type": "stream",
     "text": [
      "\n",
      "Estadísticas básicas de las columnas numéricas:\n",
      "        likeCount\n",
      "count  182.000000\n",
      "mean     3.236264\n",
      "std     12.487970\n",
      "min      0.000000\n",
      "25%      0.000000\n",
      "50%      1.000000\n",
      "75%      3.000000\n",
      "max    162.000000\n"
     ]
    }
   ],
   "source": [
    "# Estadísticas básicas de las columnas numéricas\n",
    "print(\"\\nEstadísticas básicas de las columnas numéricas:\")\n",
    "print(df.describe())"
   ]
  },
  {
   "cell_type": "code",
   "execution_count": 5,
   "metadata": {},
   "outputs": [
    {
     "name": "stdout",
     "output_type": "stream",
     "text": [
      "\n",
      "Conteo de valores únicos en cada columna:\n",
      "channelId                  1\n",
      "videoId                    1\n",
      "textDisplay              181\n",
      "textOriginal             181\n",
      "authorDisplayName        105\n",
      "authorProfileImageUrl    105\n",
      "authorChannelUrl         120\n",
      "authorChannelId          105\n",
      "canRate                    1\n",
      "viewerRating               1\n",
      "likeCount                 18\n",
      "publishedAt              181\n",
      "updatedAt                181\n",
      "parentId                  18\n",
      "dtype: int64\n"
     ]
    }
   ],
   "source": [
    "# Conteo de valores únicos en cada columna\n",
    "print(\"\\nConteo de valores únicos en cada columna:\")\n",
    "print(df.nunique())\n"
   ]
  },
  {
   "cell_type": "code",
   "execution_count": 6,
   "metadata": {},
   "outputs": [
    {
     "name": "stdout",
     "output_type": "stream",
     "text": [
      "\n",
      "Conteo de valores en la columna 'canRate':\n",
      "True    182\n",
      "Name: canRate, dtype: int64\n"
     ]
    }
   ],
   "source": [
    "\n",
    "# Conteo de valores en una columna específica\n",
    "print(\"\\nConteo de valores en la columna 'canRate':\")\n",
    "print(df['canRate'].value_counts())"
   ]
  },
  {
   "cell_type": "code",
   "execution_count": 7,
   "metadata": {},
   "outputs": [
    {
     "data": {
      "image/png": "[encoded data removed]",
      "text/plain": [
       "<Figure size 640x480 with 1 Axes>"
      ]
     },
     "metadata": {},
     "output_type": "display_data"
    }
   ],
   "source": [
    "# Visualizar la distribución de likesCount\n",
    "df['likeCount'].hist(bins=20, edgecolor='black', alpha=0.7)\n",
    "plt.title('Distribución de Likes')\n",
    "plt.xlabel('Número de Likes')\n",
    "plt.ylabel('Frecuencia')\n",
    "plt.show()"
   ]
  },
  {
   "cell_type": "markdown",
   "metadata": {},
   "source": [
    "## Preprocesamiento de texto ##"
   ]
  },
  {
   "cell_type": "code",
   "execution_count": 7,
   "metadata": {},
   "outputs": [],
   "source": [
    "import re\n",
    "import nltk\n",
    "from nltk.corpus import stopwords\n",
    "from nltk.tokenize import word_tokenize"
   ]
  },
  {
   "cell_type": "code",
   "execution_count": 9,
   "metadata": {},
   "outputs": [
    {
     "name": "stderr",
     "output_type": "stream",
     "text": [
      "[nltk_data] Downloading package stopwords to\n",
      "[nltk_data]     C:\\Users\\dylan\\AppData\\Roaming\\nltk_data...\n",
      "[nltk_data]   Package stopwords is already up-to-date!\n",
      "[nltk_data] Downloading package punkt to\n",
      "[nltk_data]     C:\\Users\\dylan\\AppData\\Roaming\\nltk_data...\n",
      "[nltk_data]   Package punkt is already up-to-date!\n"
     ]
    },
    {
     "data": {
      "text/plain": [
       "True"
      ]
     },
     "execution_count": 9,
     "metadata": {},
     "output_type": "execute_result"
    }
   ],
   "source": [
    "# Descargar los recursos necesarios para nltk (solo es necesario ejecutarlo una vez)\n",
    "nltk.download('stopwords')\n",
    "nltk.download('punkt')"
   ]
  },
  {
   "cell_type": "code",
   "execution_count": 8,
   "metadata": {},
   "outputs": [],
   "source": [
    "# Función de preprocesamiento de texto\n",
    "def preprocess_text(text):\n",
    "    # Convertir a minúsculas\n",
    "    text = text.lower()\n",
    "    \n",
    "    # Eliminar signos de puntuación y caracteres especiales\n",
    "    text = re.sub(r'[^\\w\\s]', '', text)\n",
    "    \n",
    "    # Eliminar stopwords (palabras irrelevantes)\n",
    "    stop_words = set(stopwords.words('spanish'))\n",
    "    word_tokens = word_tokenize(text)\n",
    "    text = ' '.join([word for word in word_tokens if word.lower() not in stop_words])\n",
    "    \n",
    "    return text"
   ]
  },
  {
   "cell_type": "code",
   "execution_count": 9,
   "metadata": {},
   "outputs": [],
   "source": [
    "# Aplicar la función de preprocesamiento a la columna 'textDisplay'\n",
    "df['textDisplay_processed'] = df['textDisplay'].apply(preprocess_text)"
   ]
  },
  {
   "cell_type": "code",
   "execution_count": 10,
   "metadata": {},
   "outputs": [
    {
     "name": "stdout",
     "output_type": "stream",
     "text": [
      "                                         textDisplay  \\\n",
      "0  este enero no decepcionó, space for the unboun...   \n",
      "1  Oportunidad perdida de crear algo totalmente n...   \n",
      "2  De verdad que el Game pass es un servicio muy ...   \n",
      "3                                    Juegazo es poco   \n",
      "4  Ole x un juego que pega en lo verdaderamente d...   \n",
      "\n",
      "                               textDisplay_processed  \n",
      "0  enero decepcionó space for the unbound hi fi r...  \n",
      "1  oportunidad perdida crear totalmente nuevo fas...  \n",
      "2           verdad game pass servicio completo mejor  \n",
      "3                                            juegazo  \n",
      "4          ole x juego pega verdaderamente divertido  \n"
     ]
    }
   ],
   "source": [
    "# Visualizar las primeras filas del DataFrame con la columna procesada\n",
    "print(df[['textDisplay', 'textDisplay_processed']].head())"
   ]
  },
  {
   "cell_type": "markdown",
   "metadata": {},
   "source": [
    "En este código:\n",
    "\n",
    "- Se define una función preprocess_text que realiza la conversión a minúsculas, elimina signos de puntuación y caracteres especiales, y elimina palabras irrelevantes (stopwords) en español utilizando la biblioteca NLTK.\n",
    "- Se aplica esta función a la columna textDisplay y se crea una nueva columna llamada textDisplay_processed en el DataFrame.\n",
    "- Se muestra las primeras filas del DataFrame con las columnas originales y la columna procesada."
   ]
  },
  {
   "cell_type": "markdown",
   "metadata": {},
   "source": [
    "## Análisis de sentimientos ##"
   ]
  },
  {
   "cell_type": "code",
   "execution_count": 11,
   "metadata": {},
   "outputs": [
    {
     "name": "stderr",
     "output_type": "stream",
     "text": [
      "[nltk_data] Downloading package vader_lexicon to\n",
      "[nltk_data]     C:\\Users\\dylan\\AppData\\Roaming\\nltk_data...\n",
      "[nltk_data]   Package vader_lexicon is already up-to-date!\n"
     ]
    },
    {
     "data": {
      "text/plain": [
       "True"
      ]
     },
     "execution_count": 11,
     "metadata": {},
     "output_type": "execute_result"
    }
   ],
   "source": [
    "nltk.download('vader_lexicon')"
   ]
  },
  {
   "cell_type": "code",
   "execution_count": 12,
   "metadata": {},
   "outputs": [],
   "source": [
    "from nltk.sentiment.vader import SentimentIntensityAnalyzer"
   ]
  },
  {
   "cell_type": "code",
   "execution_count": 13,
   "metadata": {},
   "outputs": [],
   "source": [
    "# Inicializar el analizador de sentimientos de VADER\n",
    "sid = SentimentIntensityAnalyzer()"
   ]
  },
  {
   "cell_type": "code",
   "execution_count": 14,
   "metadata": {},
   "outputs": [],
   "source": [
    "# Función para obtener la polaridad del sentimiento\n",
    "def get_sentiment_polarity(text):\n",
    "    sentiment_scores = sid.polarity_scores(text)\n",
    "    return sentiment_scores['compound']"
   ]
  },
  {
   "cell_type": "code",
   "execution_count": 15,
   "metadata": {},
   "outputs": [
    {
     "name": "stdout",
     "output_type": "stream",
     "text": [
      "0      enero decepcionó space for the unbound hi fi r...\n",
      "1      oportunidad perdida crear totalmente nuevo fas...\n",
      "2               verdad game pass servicio completo mejor\n",
      "3                                                juegazo\n",
      "4              ole x juego pega verdaderamente divertido\n",
      "                             ...                        \n",
      "177                                          enhorabuena\n",
      "178                                    desgastó escribir\n",
      "179                                           primero xd\n",
      "180                                           primero xd\n",
      "181                                                 hola\n",
      "Name: textDisplay_processed, Length: 182, dtype: object\n"
     ]
    }
   ],
   "source": [
    "print(df['textDisplay_processed'])"
   ]
  },
  {
   "cell_type": "code",
   "execution_count": 16,
   "metadata": {},
   "outputs": [
    {
     "name": "stdout",
     "output_type": "stream",
     "text": [
      "                               textDisplay_processed  sentiment_polarity\n",
      "0  enero decepcionó space for the unbound hi fi r...             -0.6486\n",
      "1  oportunidad perdida crear totalmente nuevo fas...              0.0000\n",
      "2           verdad game pass servicio completo mejor              0.0000\n",
      "3                                            juegazo              0.0000\n",
      "4          ole x juego pega verdaderamente divertido              0.0000\n"
     ]
    }
   ],
   "source": [
    "# Aplicar la función al DataFrame y crear una nueva columna 'sentiment_polarity'\n",
    "df['sentiment_polarity'] = df['textDisplay_processed'].apply(get_sentiment_polarity)\n",
    "\n",
    "# Visualizar las primeras filas del DataFrame con la columna de polaridad del sentimiento\n",
    "print(df[['textDisplay_processed', 'sentiment_polarity']].head())"
   ]
  },
  {
   "cell_type": "code",
   "execution_count": 17,
   "metadata": {},
   "outputs": [
    {
     "data": {
      "image/png": "[encoded data removed]",
      "text/plain": [
       "<Figure size 1000x600 with 1 Axes>"
      ]
     },
     "metadata": {},
     "output_type": "display_data"
    }
   ],
   "source": [
    "# Histograma de la polaridad del sentimiento\n",
    "plt.figure(figsize=(10, 6))\n",
    "plt.hist(df['sentiment_polarity'], bins=30, edgecolor='black', alpha=0.7)\n",
    "plt.title('Distribución de la Polaridad del Sentimiento')\n",
    "plt.xlabel('Polaridad del Sentimiento')\n",
    "plt.ylabel('Frecuencia')\n",
    "plt.grid(True)\n",
    "plt.show()"
   ]
  },
  {
   "cell_type": "code",
   "execution_count": 20,
   "metadata": {},
   "outputs": [],
   "source": [
    "# Filtrar comentarios con polaridad mayor a 0\n",
    "positivos = df[df['sentiment_polarity'] > 0]\n",
    "\n",
    "# Filtrar comentarios con polaridad menor a 0\n",
    "negativos = df[df['sentiment_polarity'] < 0]\n",
    "\n",
    "# Guardar en CSV\n",
    "positivos.to_csv('comentarios_positivos.csv', index=False)\n",
    "negativos.to_csv('comentarios_negativos_BERT.csv', index=False)"
   ]
  },
  {
   "cell_type": "markdown",
   "metadata": {},
   "source": [
    "### Spacy ###\n",
    "\n",
    "python -m spacy download es_core_news_sm\n"
   ]
  },
  {
   "cell_type": "code",
   "execution_count": 21,
   "metadata": {},
   "outputs": [
    {
     "name": "stdout",
     "output_type": "stream",
     "text": [
      "c:\\Users\\dylan\\AppData\\Local\\Programs\\Python\\Python38\\lib\\site-packages\\es_core_news_sm\\es_core_news_sm-3.7.0\n"
     ]
    }
   ],
   "source": [
    "import spacy\n",
    "import pathlib\n",
    "nlp = spacy.load(\"es_core_news_sm\")\n",
    "model_path = pathlib.Path(nlp.path)\n",
    "print(model_path)"
   ]
  },
  {
   "cell_type": "code",
   "execution_count": 22,
   "metadata": {},
   "outputs": [],
   "source": [
    "# Función para obtener la polaridad del sentimiento con spaCy\n",
    "def get_spacy_sentiment(text):\n",
    "    doc = nlp(text)\n",
    "    return doc.sentiment"
   ]
  },
  {
   "cell_type": "code",
   "execution_count": 23,
   "metadata": {},
   "outputs": [],
   "source": [
    "# Aplicar la función al DataFrame y crear una nueva columna 'spacy_sentiment'\n",
    "df['spacy_sentiment'] = df['textDisplay_processed'].apply(get_spacy_sentiment)\n"
   ]
  },
  {
   "cell_type": "code",
   "execution_count": 24,
   "metadata": {},
   "outputs": [
    {
     "name": "stdout",
     "output_type": "stream",
     "text": [
      "                               textDisplay_processed  spacy_sentiment\n",
      "0  tremenda basura mejor juego señor anillos sido...              0.0\n",
      "1  peor juego the lord of the rings solo comprare...              0.0\n",
      "2                pues contaste parece tan mal verdad              0.0\n",
      "3                  serie amazon tan mal juego basura              0.0\n",
      "4  después fracasos señor anillos jamas volvera s...              0.0\n"
     ]
    }
   ],
   "source": [
    "\n",
    "# Visualizar las primeras filas del DataFrame con la columna de sentimiento de spaCy\n",
    "print(df[['textDisplay_processed', 'spacy_sentiment']].head())"
   ]
  },
  {
   "cell_type": "code",
   "execution_count": 25,
   "metadata": {},
   "outputs": [
    {
     "data": {
      "image/png": "[encoded data removed]",
      "text/plain": [
       "<Figure size 1000x600 with 1 Axes>"
      ]
     },
     "metadata": {},
     "output_type": "display_data"
    }
   ],
   "source": [
    "# Histograma de la polaridad del sentimiento spacy\n",
    "plt.figure(figsize=(10, 6))\n",
    "plt.hist(df['spacy_sentiment'], bins=30, edgecolor='black', alpha=0.7)\n",
    "plt.title('Distribución de la Polaridad del Sentimiento Spacy')\n",
    "plt.xlabel('Polaridad del Sentimiento')\n",
    "plt.ylabel('Frecuencia')\n",
    "plt.grid(True)\n",
    "plt.show()"
   ]
  },
  {
   "cell_type": "code",
   "execution_count": 26,
   "metadata": {},
   "outputs": [],
   "source": [
    "df.to_csv('df_spacy.csv', sep=',', index=False)"
   ]
  },
  {
   "cell_type": "code",
   "execution_count": null,
   "metadata": {},
   "outputs": [],
   "source": [
    "# Filtrar comentarios con polaridad distinta de 0 en el DataFrame original\n",
    "df_spacy = df[df['spacy_sentiment'] != 0]\n",
    "\n",
    "# Visualizar las primeras filas del nuevo DataFrame\n",
    "print(df_spacy[['textDisplay_processed', 'spacy_sentiment']].head())"
   ]
  },
  {
   "cell_type": "code",
   "execution_count": null,
   "metadata": {},
   "outputs": [],
   "source": [
    "print(df['spacy_sentiment'].unique())\n"
   ]
  },
  {
   "cell_type": "code",
   "execution_count": null,
   "metadata": {},
   "outputs": [],
   "source": [
    "# Imprimir información sobre el modelo\n",
    "nlp = spacy.load('es_core_news_sm')\n",
    "print(nlp.meta)"
   ]
  },
  {
   "cell_type": "code",
   "execution_count": null,
   "metadata": {},
   "outputs": [],
   "source": [
    "oracion_positiva = \"Este producto es increíble y me encanta.\"\n",
    "doc_positivo = nlp(oracion_positiva)\n",
    "print(f\"Polaridad de la oración positiva: {doc_positivo.sentiment}\")\n",
    "\n",
    "oracion_negativa = \"Este producto es terrible y no lo recomendaría a nadie.\"\n",
    "doc_negativo = nlp(oracion_negativa)\n",
    "print(f\"Polaridad de la oración negativa: {doc_negativo.sentiment}\")\n",
    "\n"
   ]
  },
  {
   "cell_type": "markdown",
   "metadata": {},
   "source": [
    "## BERT ##"
   ]
  },
  {
   "cell_type": "code",
   "execution_count": 27,
   "metadata": {},
   "outputs": [],
   "source": [
    "from transformers import AutoTokenizer, AutoModelForSequenceClassification\n",
    "import torch"
   ]
  },
  {
   "cell_type": "code",
   "execution_count": 28,
   "metadata": {},
   "outputs": [],
   "source": [
    "tokenizer = AutoTokenizer.from_pretrained(\"edumunozsala/bertin_base_sentiment_analysis_es\")\n",
    "model = AutoModelForSequenceClassification.from_pretrained(\"edumunozsala/bertin_base_sentiment_analysis_es\")"
   ]
  },
  {
   "cell_type": "code",
   "execution_count": 29,
   "metadata": {},
   "outputs": [],
   "source": [
    "import torch\n",
    "from transformers import AutoTokenizer, AutoModelForSequenceClassification\n",
    "\n",
    "tokenizer = AutoTokenizer.from_pretrained(\"edumunozsala/bertin_base_sentiment_analysis_es\")\n",
    "model = AutoModelForSequenceClassification.from_pretrained(\"edumunozsala/bertin_base_sentiment_analysis_es\")\n",
    "\n",
    "text =\"Se trata de una película interesante, con un solido argumento y un gran interpretación de su actor principal\"\n",
    "\n",
    "input_ids = torch.tensor(tokenizer.encode(text)).unsqueeze(0)\n",
    "outputs = model(input_ids)\n",
    "output = outputs.logits.argmax(1)\n"
   ]
  },
  {
   "cell_type": "code",
   "execution_count": 30,
   "metadata": {},
   "outputs": [
    {
     "name": "stderr",
     "output_type": "stream",
     "text": [
      "We strongly recommend passing in an `attention_mask` since your input_ids may be padded. See https://huggingface.co/docs/transformers/troubleshooting#incorrect-output-when-padding-tokens-arent-masked.\n"
     ]
    },
    {
     "name": "stdout",
     "output_type": "stream",
     "text": [
      "tensor([[9.9916e-01, 8.3730e-04],\n",
      "        [9.9857e-01, 1.4313e-03],\n",
      "        [9.9793e-01, 2.0712e-03],\n",
      "        [9.8625e-01, 1.3754e-02],\n",
      "        [9.7643e-01, 2.3568e-02],\n",
      "        [9.7448e-01, 2.5519e-02],\n",
      "        [8.6267e-01, 1.3733e-01],\n",
      "        [9.3410e-01, 6.5897e-02],\n",
      "        [9.8925e-01, 1.0746e-02],\n",
      "        [8.4730e-01, 1.5270e-01],\n",
      "        [9.2335e-01, 7.6646e-02],\n",
      "        [9.9929e-01, 7.0960e-04],\n",
      "        [9.1850e-01, 8.1501e-02],\n",
      "        [9.3635e-01, 6.3649e-02],\n",
      "        [9.8862e-01, 1.1380e-02],\n",
      "        [9.9575e-01, 4.2464e-03],\n",
      "        [9.9548e-01, 4.5200e-03],\n",
      "        [9.9127e-01, 8.7335e-03],\n",
      "        [9.9736e-01, 2.6352e-03],\n",
      "        [9.8263e-01, 1.7372e-02],\n",
      "        [9.3392e-01, 6.6082e-02],\n",
      "        [9.4283e-01, 5.7174e-02],\n",
      "        [9.7534e-01, 2.4664e-02],\n",
      "        [9.6529e-01, 3.4713e-02],\n",
      "        [9.4745e-01, 5.2545e-02],\n",
      "        [8.6736e-01, 1.3264e-01],\n",
      "        [9.5369e-01, 4.6308e-02]], grad_fn=<SoftmaxBackward0>)\n"
     ]
    }
   ],
   "source": [
    "tokens = tokenizer(negativos['textDisplay_processed'].tolist(), return_tensors='pt', padding=True)\n",
    "output = model.forward(tokens['input_ids'])\n",
    "probs = output[0].softmax(dim=1)\n",
    "print(probs)\n",
    "\n"
   ]
  },
  {
   "cell_type": "code",
   "execution_count": 31,
   "metadata": {},
   "outputs": [
    {
     "name": "stdout",
     "output_type": "stream",
     "text": [
      "tensor([[9.9916e-01, 8.3730e-04],\n",
      "        [9.9857e-01, 1.4313e-03],\n",
      "        [9.9793e-01, 2.0712e-03],\n",
      "        [9.8625e-01, 1.3754e-02],\n",
      "        [9.7643e-01, 2.3568e-02],\n",
      "        [9.7448e-01, 2.5519e-02],\n",
      "        [8.6267e-01, 1.3733e-01],\n",
      "        [9.3410e-01, 6.5897e-02],\n",
      "        [9.8925e-01, 1.0746e-02],\n",
      "        [8.4730e-01, 1.5270e-01],\n",
      "        [9.2335e-01, 7.6646e-02],\n",
      "        [9.9929e-01, 7.0960e-04],\n",
      "        [9.1850e-01, 8.1501e-02],\n",
      "        [9.3635e-01, 6.3649e-02],\n",
      "        [9.8862e-01, 1.1380e-02],\n",
      "        [9.9575e-01, 4.2464e-03],\n",
      "        [9.9548e-01, 4.5200e-03],\n",
      "        [9.9127e-01, 8.7335e-03],\n",
      "        [9.9736e-01, 2.6352e-03],\n",
      "        [9.8263e-01, 1.7372e-02],\n",
      "        [9.3392e-01, 6.6082e-02],\n",
      "        [9.4283e-01, 5.7174e-02],\n",
      "        [9.7534e-01, 2.4664e-02],\n",
      "        [9.6529e-01, 3.4713e-02],\n",
      "        [9.4745e-01, 5.2545e-02],\n",
      "        [8.6736e-01, 1.3264e-01],\n",
      "        [9.5369e-01, 4.6308e-02]], grad_fn=<SoftmaxBackward0>)\n"
     ]
    }
   ],
   "source": [
    "tokens = tokenizer(negativos['textDisplay_processed'].tolist(), return_tensors='pt', padding=True)\n",
    "output = model.forward(tokens['input_ids'])\n",
    "probs = output[0].softmax(dim=1)\n",
    "print(probs)\n",
    "\n"
   ]
  },
  {
   "cell_type": "code",
   "execution_count": 32,
   "metadata": {},
   "outputs": [
    {
     "name": "stderr",
     "output_type": "stream",
     "text": [
      "C:\\Users\\dylan\\AppData\\Local\\Temp\\ipykernel_23520\\807104970.py:4: SettingWithCopyWarning: \n",
      "A value is trying to be set on a copy of a slice from a DataFrame.\n",
      "Try using .loc[row_indexer,col_indexer] = value instead\n",
      "\n",
      "See the caveats in the documentation: https://pandas.pydata.org/pandas-docs/stable/user_guide/indexing.html#returning-a-view-versus-a-copy\n",
      "  negativos['sentiment_BERT'] = preds.apply(lambda x: labels[x])\n"
     ]
    }
   ],
   "source": [
    "preds = probs.argmax(dim=1)\n",
    "labels = {0: 'negativo', 1: 'positivo', 2: 'neutro'}\n",
    "preds = pd.Series(preds)\n",
    "negativos['sentiment_BERT'] = preds.apply(lambda x: labels[x])\n"
   ]
  },
  {
   "cell_type": "code",
   "execution_count": 33,
   "metadata": {},
   "outputs": [],
   "source": [
    "negativos.to_csv('comentarios_negativos_BERT.csv', index=False)"
   ]
  },
  {
   "cell_type": "code",
   "execution_count": 34,
   "metadata": {},
   "outputs": [
    {
     "data": {
      "text/plain": [
       "34     NaN\n",
       "64     NaN\n",
       "96     NaN\n",
       "98     NaN\n",
       "125    NaN\n",
       "Name: sentiment_BERT, dtype: object"
      ]
     },
     "execution_count": 34,
     "metadata": {},
     "output_type": "execute_result"
    }
   ],
   "source": [
    "negativos['sentiment_BERT'].head()"
   ]
  },
  {
   "cell_type": "code",
   "execution_count": 35,
   "metadata": {},
   "outputs": [
    {
     "data": {
      "image/png": "[encoded data removed]",
      "text/plain": [
       "<Figure size 640x480 with 1 Axes>"
      ]
     },
     "metadata": {},
     "output_type": "display_data"
    }
   ],
   "source": [
    "# Contar la frecuencia de cada valor en la columna 'sentiment'\n",
    "counts = negativos['sentiment_BERT'].value_counts()\n",
    "\n",
    "# Crear un gráfico de barras con los nombres y las frecuencias de las categorías\n",
    "plt.bar(counts.index, counts.values)\n",
    "\n",
    "# Añadir títulos y etiquetas a los ejes\n",
    "plt.title('Distribución de sentimientos')\n",
    "plt.xlabel('Sentimiento')\n",
    "plt.ylabel('Frecuencia')\n",
    "\n",
    "# Mostrar el gráfico\n",
    "plt.show()"
   ]
  },
  {
   "cell_type": "code",
   "execution_count": 36,
   "metadata": {},
   "outputs": [
    {
     "name": "stdout",
     "output_type": "stream",
     "text": [
      "Frase: 'Este juego es increíblemente bueno.' - Polaridad: 0.0\n",
      "Frase: 'La pantalla de carga dura demasiado tiempo.' - Polaridad: 0.0\n",
      "Frase: 'No estoy seguro de cómo me siento acerca de este juego.' - Polaridad: 0.0\n"
     ]
    }
   ],
   "source": [
    "import spacy\n",
    "\n",
    "# Cargar el modelo de spaCy para español\n",
    "nlp = spacy.load(\"es_core_news_sm\")\n",
    "\n",
    "# Ejemplos de frases\n",
    "frases = [\"Este juego es increíblemente bueno.\",\n",
    "          \"La pantalla de carga dura demasiado tiempo.\",\n",
    "          \"No estoy seguro de cómo me siento acerca de este juego.\"]\n",
    "\n",
    "# Función para obtener la polaridad promedio de una frase con spaCy\n",
    "def get_spacy_sentiment(text):\n",
    "    doc = nlp(text)\n",
    "    \n",
    "    # Calcular la polaridad promedio de las palabras en la oración\n",
    "    polarity = sum([token.sentiment for token in doc]) / len(doc)\n",
    "    \n",
    "    return polarity\n",
    "\n",
    "# Aplicar la función a las frases\n",
    "for frase in frases:\n",
    "    polaridad = get_spacy_sentiment(frase)\n",
    "    print(f\"Frase: '{frase}' - Polaridad: {polaridad}\")\n"
   ]
  }
 ],
 "metadata": {
  "kernelspec": {
   "display_name": "Python 3",
   "language": "python",
   "name": "python3"
  },
  "language_info": {
   "codemirror_mode": {
    "name": "ipython",
    "version": 3
   },
   "file_extension": ".py",
   "mimetype": "text/x-python",
   "name": "python",
   "nbconvert_exporter": "python",
   "pygments_lexer": "ipython3",
   "version": "3.8.5"
  }
 },
 "nbformat": 4,
 "nbformat_minor": 2
}
