{
 "cells": [
  {
   "cell_type": "markdown",
   "metadata": {},
   "source": [
    "# Analisis exploratorio de datos"
   ]
  },
  {
   "cell_type": "code",
   "execution_count": 1,
   "metadata": {},
   "outputs": [
    {
     "name": "stdout",
     "output_type": "stream",
     "text": [
      "(421, 14)\n",
      "                  channelId      videoId  \\\n",
      "0  UCq8-iQSNsOZxIMXGeesMq8Q  elYuJAjTies   \n",
      "1  UCq8-iQSNsOZxIMXGeesMq8Q  elYuJAjTies   \n",
      "2  UCq8-iQSNsOZxIMXGeesMq8Q  elYuJAjTies   \n",
      "3  UCq8-iQSNsOZxIMXGeesMq8Q  elYuJAjTies   \n",
      "4  UCq8-iQSNsOZxIMXGeesMq8Q  elYuJAjTies   \n",
      "\n",
      "                                         textDisplay  \\\n",
      "0  Me emocionaron todos los comentarios demostran...   \n",
      "1  lo unico que no me gusto de ese juego es que l...   \n",
      "2  Compre celeste para switch, me ayudo mucho en ...   \n",
      "3  Jugue y complete la historia principal de cele...   \n",
      "4              A mí me da más ansiedad de la q tengo   \n",
      "\n",
      "                                        textOriginal       authorDisplayName  \\\n",
      "0  Me emocionaron todos los comentarios demostran...        @Ichbinberlinerr   \n",
      "1  lo unico que no me gusto de ese juego es que l...            @luisfer3602   \n",
      "2  Compre celeste para switch, me ayudo mucho en ...         @GilbertoE_3486   \n",
      "3  Jugue y complete la historia principal de cele...  @lautarozakidalsky4717   \n",
      "4              A mí me da más ansiedad de la q tengo           @MingusGp2025   \n",
      "\n",
      "                               authorProfileImageUrl  \\\n",
      "0  https://yt3.ggpht.com/ytc/AIf8zZS6ZdQxp5wrJwlM...   \n",
      "1  https://yt3.ggpht.com/ytc/AIf8zZRvYMLF1loOe8Um...   \n",
      "2  https://yt3.ggpht.com/ytc/AIf8zZRF_QinjgPjoahX...   \n",
      "3  https://yt3.ggpht.com/ytc/AIf8zZQ9Xa964fwH1zvX...   \n",
      "4  https://yt3.ggpht.com/ytc/AIf8zZQtHYHeF-OzgQt2...   \n",
      "\n",
      "                                    authorChannelUrl  \\\n",
      "0  http://www.youtube.com/channel/UCHFdPGNSwofM6m...   \n",
      "1  http://www.youtube.com/channel/UCBimiRBpHVFK0r...   \n",
      "2  http://www.youtube.com/channel/UCSomHtQMjbfqM4...   \n",
      "3  http://www.youtube.com/channel/UCWayGovd0sfVhJ...   \n",
      "4  http://www.youtube.com/channel/UCI0uuZtiYlSLGa...   \n",
      "\n",
      "                         authorChannelId  canRate viewerRating  likeCount  \\\n",
      "0  {'value': 'UCHFdPGNSwofM6mfeSS1WPGA'}     True         none          0   \n",
      "1  {'value': 'UCBimiRBpHVFK0rH0CWfH07g'}     True         none          0   \n",
      "2  {'value': 'UCSomHtQMjbfqM4ybCpZmh9Q'}     True         none          0   \n",
      "3  {'value': 'UCWayGovd0sfVhJw3gIfLxyQ'}     True         none          0   \n",
      "4  {'value': 'UCI0uuZtiYlSLGatFazC5Eaw'}     True         none          0   \n",
      "\n",
      "            publishedAt             updatedAt parentId  \n",
      "0  2024-01-07T19:00:44Z  2024-01-07T19:00:44Z      NaN  \n",
      "1  2024-01-02T01:48:27Z  2024-01-02T01:48:27Z      NaN  \n",
      "2  2023-12-29T21:25:55Z  2023-12-29T21:25:55Z      NaN  \n",
      "3  2023-12-14T01:43:19Z  2023-12-14T01:43:19Z      NaN  \n",
      "4  2023-12-07T00:41:04Z  2023-12-07T00:41:04Z      NaN  \n",
      "<class 'pandas.core.frame.DataFrame'>\n",
      "RangeIndex: 421 entries, 0 to 420\n",
      "Data columns (total 14 columns):\n",
      " #   Column                 Non-Null Count  Dtype \n",
      "---  ------                 --------------  ----- \n",
      " 0   channelId              421 non-null    object\n",
      " 1   videoId                321 non-null    object\n",
      " 2   textDisplay            421 non-null    object\n",
      " 3   textOriginal           421 non-null    object\n",
      " 4   authorDisplayName      421 non-null    object\n",
      " 5   authorProfileImageUrl  421 non-null    object\n",
      " 6   authorChannelUrl       421 non-null    object\n",
      " 7   authorChannelId        421 non-null    object\n",
      " 8   canRate                421 non-null    bool  \n",
      " 9   viewerRating           421 non-null    object\n",
      " 10  likeCount              421 non-null    int64 \n",
      " 11  publishedAt            421 non-null    object\n",
      " 12  updatedAt              421 non-null    object\n",
      " 13  parentId               100 non-null    object\n",
      "dtypes: bool(1), int64(1), object(12)\n",
      "memory usage: 43.3+ KB\n",
      "None\n",
      "        likeCount\n",
      "count  421.000000\n",
      "mean     4.332542\n",
      "std     27.143948\n",
      "min      0.000000\n",
      "25%      0.000000\n",
      "50%      1.000000\n",
      "75%      1.000000\n",
      "max    338.000000\n"
     ]
    }
   ],
   "source": [
    "import pandas as pd\n",
    "\n",
    "# Cargar el archivo CSV\n",
    "df = pd.read_csv('../data/comentarios_mejorados.csv', sep='|')\n",
    "\n",
    "# Mostrar las filas y columnas del DataFrame\n",
    "print(df.shape)\n",
    "\n",
    "# Mostrar las primeras filas del DataFrame\n",
    "print(df.head())\n",
    "\n",
    "# Obtener información sobre el DataFrame\n",
    "print(df.info())\n",
    "\n",
    "# Obtener estadísticas descriptivas del DataFrame\n",
    "print(df.describe())"
   ]
  },
  {
   "cell_type": "markdown",
   "metadata": {},
   "source": [
    "## 1. Elimitar columnas que no aportan informacion\n",
    "En este caso se eliminan las columnas que no aportan informacion al modelo y nos quedamos con el comentario. Eliminamos también los comentarios que son respuestas a otros comentarios basandonos en el hecho de que no aportan información al modelo.\n",
    "\n",
    "Para ello nos fijamos en el parent_id, si es nulo es un comentario raiz, si no es una respuesta a otro comentario."
   ]
  },
  {
   "cell_type": "code",
   "execution_count": 2,
   "metadata": {},
   "outputs": [
    {
     "name": "stdout",
     "output_type": "stream",
     "text": [
      "321\n",
      "parentId\n",
      "True     321\n",
      "False    100\n",
      "Name: count, dtype: int64\n",
      "(321, 14)\n"
     ]
    }
   ],
   "source": [
    "# Contamos las filas donde el parent_id sea nulo\n",
    "print(df.parentId.isnull().sum())\n",
    "print(df.parentId.isnull().value_counts())\n",
    "\n",
    "# Filtrar las filas donde el parent_id sea nulo\n",
    "df = df[df.parentId.isnull()]\n",
    "\n",
    "# Contamos las filas que quedaron\n",
    "print(df.shape)\n"
   ]
  },
  {
   "cell_type": "code",
   "execution_count": 3,
   "metadata": {},
   "outputs": [
    {
     "name": "stdout",
     "output_type": "stream",
     "text": [
      "                                         textDisplay\n",
      "0  Me emocionaron todos los comentarios demostran...\n",
      "1  lo unico que no me gusto de ese juego es que l...\n",
      "2  Compre celeste para switch, me ayudo mucho en ...\n",
      "3  Jugue y complete la historia principal de cele...\n",
      "4              A mí me da más ansiedad de la q tengo\n"
     ]
    }
   ],
   "source": [
    "columnas_a_eliminar = ['channelId', 'videoId', 'textOriginal', 'authorDisplayName', \n",
    "                       'authorProfileImageUrl', 'authorChannelUrl', 'authorChannelId', \n",
    "                       'canRate', 'viewerRating', 'likeCount', 'publishedAt', \n",
    "                       'updatedAt', 'parentId']\n",
    "\n",
    "# Eliminar las columnas\n",
    "df = df.drop(columnas_a_eliminar, axis=1)\n",
    "\n",
    "# Mostrar las primeras filas del DataFrame\n",
    "print(df.head())"
   ]
  },
  {
   "cell_type": "markdown",
   "metadata": {},
   "source": [
    "## 2. Limpieza de texto\n",
    "Se eliminan los caracteres especiales, se pasa todo a minusculas y se eliminan espaacios en blanco innecesarios. Para usar Vader vamos a dejar sin eliminar los emojis ni caracteres especiales, además de no tokenizar el texto."
   ]
  },
  {
   "cell_type": "code",
   "execution_count": 4,
   "metadata": {},
   "outputs": [
    {
     "name": "stdout",
     "output_type": "stream",
     "text": [
      "                                         textDisplay\n",
      "0  Me emocionaron todos los comentarios demostran...\n",
      "1  lo unico que no me gusto de ese juego es que l...\n",
      "2  Compre celeste para switch, me ayudo mucho en ...\n",
      "3  Jugue y complete la historia principal de cele...\n",
      "4              A mí me da más ansiedad de la q tengo\n"
     ]
    }
   ],
   "source": [
    "df_vader = df.copy()\n",
    "\n",
    "print(df_vader.head())"
   ]
  },
  {
   "cell_type": "code",
   "execution_count": 5,
   "metadata": {},
   "outputs": [
    {
     "name": "stdout",
     "output_type": "stream",
     "text": [
      "                                         textDisplay\n",
      "0  me emocionaron todos los comentarios demostran...\n",
      "1  lo unico que no me gusto de ese juego es que l...\n",
      "2  compre celeste para switch me ayudo mucho en u...\n",
      "3  jugue y complete la historia principal de cele...\n",
      "4              a mí me da más ansiedad de la q tengo\n"
     ]
    }
   ],
   "source": [
    "import re\n",
    "\n",
    "# Función para limpiar el texto\n",
    "def clean_text(text):\n",
    "    # Eliminar emojis y caracteres especiales manteniendo las tildes y ñ\n",
    "    text = re.sub(r'([^\\s\\wñáéíóú]|_)+', '', text)\n",
    "    \n",
    "    # Minúsculas\n",
    "    text = text.lower()\n",
    "    \n",
    "    # Eliminar espacios en blanco innecesarios\n",
    "    text = re.sub(r'\\s+', ' ', text).strip()\n",
    "    \n",
    "    return text\n",
    "\n",
    "# Aplicar la función de limpieza de texto a la columna 'textDisplay'\n",
    "df['textDisplay'] = df['textDisplay'].apply(clean_text)\n",
    "\n",
    "# Mostrar las primeras filas del DataFrame\n",
    "print(df.head())"
   ]
  },
  {
   "cell_type": "markdown",
   "metadata": {},
   "source": [
    "## 3. Tokenizacion\n",
    "Se separa el texto en palabras individuales. Esto nos permite analizar cada palabra por separado y no como una cadena de texto.\n"
   ]
  },
  {
   "cell_type": "code",
   "execution_count": 6,
   "metadata": {},
   "outputs": [
    {
     "name": "stdout",
     "output_type": "stream",
     "text": [
      "                                         textDisplay\n",
      "0  [me, emocionaron, todos, los, comentarios, dem...\n",
      "1  [lo, unico, que, no, me, gusto, de, ese, juego...\n",
      "2  [compre, celeste, para, switch, me, ayudo, muc...\n",
      "3  [jugue, y, complete, la, historia, principal, ...\n",
      "4   [a, mí, me, da, más, ansiedad, de, la, q, tengo]\n"
     ]
    },
    {
     "name": "stderr",
     "output_type": "stream",
     "text": [
      "[nltk_data] Downloading package punkt to\n",
      "[nltk_data]     C:\\Users\\dylan\\AppData\\Roaming\\nltk_data...\n",
      "[nltk_data]   Package punkt is already up-to-date!\n"
     ]
    }
   ],
   "source": [
    "import nltk\n",
    "# Descargar el paquete 'punkt' de NLTK solo es necesario la primera vez\n",
    "nltk.download('punkt')\n",
    "\n",
    "# Tokenizar el texto\n",
    "df['textDisplay'] = df['textDisplay'].apply(nltk.word_tokenize)\n",
    "\n",
    "print(df.head())\n"
   ]
  },
  {
   "cell_type": "markdown",
   "metadata": {},
   "source": [
    "## 4. Eliminacion de stopwords\n",
    "Se eliminan las palabras que no aportan informacion al modelo. Estas palabras son las que se encuentran en la lista de stopwords como por ejemplo: \"el\", \"la\", \"de\", etc."
   ]
  },
  {
   "cell_type": "code",
   "execution_count": 7,
   "metadata": {},
   "outputs": [
    {
     "name": "stdout",
     "output_type": "stream",
     "text": [
      "                                         textDisplay\n",
      "0  [emocionaron, comentarios, demostrando, tanta,...\n",
      "1  [unico, gusto, juego, persona, creadora, juego...\n",
      "2  [compre, celeste, switch, ayudo, momento, teni...\n",
      "3  [jugue, complete, historia, principal, celeste...\n",
      "4                                  [da, ansiedad, q]\n"
     ]
    },
    {
     "name": "stderr",
     "output_type": "stream",
     "text": [
      "[nltk_data] Downloading package stopwords to\n",
      "[nltk_data]     C:\\Users\\dylan\\AppData\\Roaming\\nltk_data...\n",
      "[nltk_data]   Package stopwords is already up-to-date!\n"
     ]
    }
   ],
   "source": [
    "# Eliminar las palabras vacías\n",
    "from nltk.corpus import stopwords\n",
    "# Descargar las palabras vacías de NLTK solo es necesario la primera vez\n",
    "nltk.download('stopwords')\n",
    "stopwords = stopwords.words('spanish')\n",
    "\n",
    "# Función para eliminar las palabras vacías\n",
    "def remove_stopwords(text):\n",
    "    text = [word for word in text if word not in stopwords]\n",
    "    return text\n",
    "\n",
    "# Eliminar las palabras vacías\n",
    "df['textDisplay'] = df['textDisplay'].apply(remove_stopwords)\n",
    "\n",
    "print(df.head())"
   ]
  },
  {
   "cell_type": "markdown",
   "metadata": {},
   "source": [
    "## 5. Stemming o lematizacion\n",
    "Se eliminan los sufijos de las palabras para quedarnos con la raiz de la palabra. Esto nos permite reducir el numero de palabras que se tienen que analizar. Por ejemplo: \"corriendo\" se convierte en \"correr\". \n",
    "\n",
    "Esto es útil en análisis de sentimientos ya que la raíz de la palabra puede ser más importante que la palabra en sí. Por ejemplo, \"bueno\" y \"mejor\" tienen la misma raíz, \"buen\", por lo que se puede decir que son similares.\n",
    "\n",
    "Para lematizar se utiliza la libreria de Spacy, ya que ntltk no tiene soporte para el idioma español.\n",
    "\n",
    "En nuestro caso instalaremos una versión precompilada de Spacy para el idioma español, ya que la compilación de la libreria puede tardar mucho tiempo.\n",
    "\n",
    "\" python -m spacy download es_core_news_sm \""
   ]
  },
  {
   "cell_type": "code",
   "execution_count": 8,
   "metadata": {},
   "outputs": [
    {
     "name": "stdout",
     "output_type": "stream",
     "text": [
      "Palabras que han cambiado después de la lematización:\n",
      "emocionaron -> emocionar\n",
      "comentarios -> comentario\n",
      "demostrando -> demostrar\n",
      "tanta -> tanto\n",
      "muchas -> mucho\n"
     ]
    }
   ],
   "source": [
    "import spacy\n",
    "\n",
    "# Cargar el modelo de lenguaje español de Spacy\n",
    "nlp = spacy.load('es_core_news_sm')\n",
    "\n",
    "# Función para lematizar el texto\n",
    "def lemmatization(texts):\n",
    "    output = []\n",
    "    changed_words = []\n",
    "    for text in texts:\n",
    "        # Crear una lista de palabras antes de la lematización\n",
    "        words_before = text\n",
    "        \n",
    "        # Lematizar el texto\n",
    "        doc = nlp(\" \".join(words_before)) \n",
    "        words_after = [token.lemma_ for token in doc]\n",
    "        \n",
    "        # Comparar las palabras antes y después de la lematización\n",
    "        for before, after in zip(words_before, words_after):\n",
    "            if before != after:\n",
    "                changed_words.append((before, after))\n",
    "        \n",
    "        output.append(words_after)\n",
    "    \n",
    "    print(\"Palabras que han cambiado después de la lematización:\")\n",
    "    for before, after in changed_words[:5]:\n",
    "        print(f\"{before} -> {after}\")\n",
    "    \n",
    "    return output\n",
    "\n",
    "# Lematizar el texto\n",
    "df['textDisplay'] = lemmatization(df['textDisplay'])"
   ]
  },
  {
   "cell_type": "code",
   "execution_count": 9,
   "metadata": {},
   "outputs": [
    {
     "name": "stdout",
     "output_type": "stream",
     "text": [
      "                                         textDisplay\n",
      "0  [emocionar, comentario, demostrar, tanto, vuln...\n",
      "1  [unico, gusto, juego, persona, creador, juego,...\n",
      "2  [compre, celeste, switch, ayudo, momento, teni...\n",
      "3  [jugue, completir, historia, principal, celest...\n",
      "4                                 [dar, ansiedad, q]\n"
     ]
    }
   ],
   "source": [
    "print(df.head())"
   ]
  },
  {
   "cell_type": "markdown",
   "metadata": {},
   "source": [
    "# Textblob para asignar polaridad y subjetividad a los comentarios positivos, negativos y neutros\n",
    "Con Textblob podemos asignar una polaridad y subjetividad a cada comentario, de esta forma podemos analizar los comentarios positivos, negativos y neutros y etiquetarlos como tal.\n",
    "\n",
    "Posteriormente, este dataset ya etiquetado por textblob se utilizará para entrenar un modelo de clasificación propio y compararlo con la etiquetación manual de otro dataset."
   ]
  },
  {
   "cell_type": "code",
   "execution_count": 10,
   "metadata": {},
   "outputs": [],
   "source": [
    "from textblob import TextBlob\n",
    "\n",
    "def classify_comments(comments):\n",
    "    classifications = []\n",
    "    for comment in comments:\n",
    "        # Unir las palabras en una cadena si el comentario es una lista\n",
    "        if isinstance(comment, list):\n",
    "            comment = ' '.join(comment)\n",
    "\n",
    "        # Crear un TextBlob con el comentario\n",
    "        blob = TextBlob(comment)\n",
    "\n",
    "        # Obtener la puntuación de polaridad\n",
    "        polarity = blob.sentiment.polarity\n",
    "        \n",
    "        # Clasificar el comentario\n",
    "        if polarity < -0.5:\n",
    "            classification = 2  # negativo\n",
    "        elif -0.5 <= polarity < 0.5:\n",
    "            classification = 1  # neutral\n",
    "        else:\n",
    "            classification = 0  # positivo\n",
    "\n",
    "        classifications.append(classification)\n",
    "    \n",
    "    return classifications\n",
    "\n",
    "# Clasificar los comentarios\n",
    "df['classification_textblob'] = classify_comments(df['textDisplay'])"
   ]
  },
  {
   "cell_type": "code",
   "execution_count": 11,
   "metadata": {},
   "outputs": [
    {
     "name": "stdout",
     "output_type": "stream",
     "text": [
      "                                         textDisplay  classification_textblob\n",
      "0  [emocionar, comentario, demostrar, tanto, vuln...                        1\n",
      "1  [unico, gusto, juego, persona, creador, juego,...                        1\n",
      "2  [compre, celeste, switch, ayudo, momento, teni...                        1\n",
      "3  [jugue, completir, historia, principal, celest...                        1\n",
      "4                                 [dar, ansiedad, q]                        1\n"
     ]
    }
   ],
   "source": [
    "print(df.head())\n",
    "\n",
    "# Guardar el DataFrame en un archivo CSV\n",
    "df.to_csv('../data/comentarios_clasificados.csv', index=False, sep='|')"
   ]
  },
  {
   "cell_type": "code",
   "execution_count": 12,
   "metadata": {},
   "outputs": [
    {
     "data": {
      "image/png": "[encoded data removed]",
      "text/plain": [
       "<Figure size 1500x1000 with 2 Axes>"
      ]
     },
     "metadata": {},
     "output_type": "display_data"
    }
   ],
   "source": [
    "import matplotlib.pyplot as plt\n",
    "import seaborn as sns\n",
    "\n",
    "# Crear una figura con 2 subtramas\n",
    "fig, axs = plt.subplots(1, 2, figsize=(15, 10))\n",
    "\n",
    "# Mostrar la cantidad de comentarios por clasificación en la primera subtrama\n",
    "sns.countplot(x='classification_textblob', data=df, ax=axs[0])\n",
    "axs[0].set_title('Countplot')\n",
    "\n",
    "# Mostrar la cantidad de comentarios por clasificación en la segunda subtrama\n",
    "df['classification_textblob'].value_counts().plot(kind='pie', autopct='%1.0f%%', ax=axs[1])\n",
    "axs[1].set_title('Pie chart with percentages')\n",
    "\n",
    "# Ajustar el espacio entre las subtramas\n",
    "plt.tight_layout()\n",
    "\n",
    "plt.show()"
   ]
  },
  {
   "cell_type": "markdown",
   "metadata": {},
   "source": [
    "# Vader para asignar polaridad y subjetividad a los comentarios positivos, negativos y neutros\n",
    "Para comparar los resultados de Textblob, utilizaremos Vader para asignar una polaridad y subjetividad a cada comentario."
   ]
  },
  {
   "cell_type": "code",
   "execution_count": 13,
   "metadata": {},
   "outputs": [],
   "source": [
    "# import nltk\n",
    "# nltk.download('vader_lexicon')"
   ]
  },
  {
   "cell_type": "code",
   "execution_count": 14,
   "metadata": {},
   "outputs": [
    {
     "name": "stdout",
     "output_type": "stream",
     "text": [
      "                                         textDisplay  classification_textblob\n",
      "0  [emocionar, comentario, demostrar, tanto, vuln...                        1\n",
      "1  [unico, gusto, juego, persona, creador, juego,...                        1\n",
      "2  [compre, celeste, switch, ayudo, momento, teni...                        1\n",
      "3  [jugue, completir, historia, principal, celest...                        1\n",
      "4                                 [dar, ansiedad, q]                        1\n"
     ]
    }
   ],
   "source": [
    "print(df.head())"
   ]
  },
  {
   "cell_type": "code",
   "execution_count": 15,
   "metadata": {},
   "outputs": [],
   "source": [
    "# # Convertir las listas de palabras en strings\n",
    "# df['textDisplay'] = df['textDisplay'].apply(' '.join)"
   ]
  },
  {
   "cell_type": "code",
   "execution_count": 16,
   "metadata": {},
   "outputs": [
    {
     "name": "stdout",
     "output_type": "stream",
     "text": [
      "textDisplay    object\n",
      "dtype: object\n"
     ]
    }
   ],
   "source": [
    "# Imprimir los tipos de datos de las columnas\n",
    "print(df_vader.dtypes)"
   ]
  },
  {
   "cell_type": "code",
   "execution_count": 17,
   "metadata": {},
   "outputs": [
    {
     "name": "stdout",
     "output_type": "stream",
     "text": [
      "                                         textDisplay\n",
      "0  Me emocionaron todos los comentarios demostran...\n",
      "1  lo unico que no me gusto de ese juego es que l...\n",
      "2  Compre celeste para switch, me ayudo mucho en ...\n",
      "3  Jugue y complete la historia principal de cele...\n",
      "4              A mí me da más ansiedad de la q tengo\n"
     ]
    }
   ],
   "source": [
    "print(df_vader.head())"
   ]
  },
  {
   "cell_type": "code",
   "execution_count": 18,
   "metadata": {},
   "outputs": [],
   "source": [
    "from vaderSentiment.vaderSentiment import SentimentIntensityAnalyzer\n",
    "\n",
    "# Crear el analizador de sentimientos\n",
    "sia = SentimentIntensityAnalyzer()\n",
    "\n",
    "def safe_polarity_scores(comment):\n",
    "    try:\n",
    "        return sia.polarity_scores(comment)\n",
    "    except IndexError:\n",
    "        print(f\"Error with comment: {comment}\")\n",
    "        return None\n",
    "\n",
    "df_vader['vader_scores'] = df_vader['textDisplay'].apply(safe_polarity_scores)\n",
    "\n",
    "# Eliminar las filas que contienen None en la columna 'vader_scores'\n",
    "df_vader = df_vader.dropna(subset=['vader_scores'])\n",
    "\n",
    "# # Extraer la puntuación compuesta, que es una puntuación de sentimiento general que combina las puntuaciones de sentimiento positivo, negativo y neutral\n",
    "df_vader['vader_compound'] = df_vader['vader_scores'].apply(lambda scores: scores['compound'])\n",
    "\n",
    "# # # Clasificar los comentarios en base a la puntuación compuesta\n",
    "# df_vader['vader_classification'] = df_vader['vader_compound'].apply(lambda score: 2 if score < -0.5 else 1 if -0.5 <= score < 0.5 else 0)"
   ]
  },
  {
   "cell_type": "code",
   "execution_count": 19,
   "metadata": {},
   "outputs": [
    {
     "name": "stdout",
     "output_type": "stream",
     "text": [
      "                                         textDisplay  \\\n",
      "0  Me emocionaron todos los comentarios demostran...   \n",
      "1  lo unico que no me gusto de ese juego es que l...   \n",
      "2  Compre celeste para switch, me ayudo mucho en ...   \n",
      "3  Jugue y complete la historia principal de cele...   \n",
      "4              A mí me da más ansiedad de la q tengo   \n",
      "\n",
      "                                        vader_scores  vader_compound  \n",
      "0  {'neg': 0.0, 'neu': 1.0, 'pos': 0.0, 'compound...          0.0000  \n",
      "1  {'neg': 0.075, 'neu': 0.925, 'pos': 0.0, 'comp...         -0.2960  \n",
      "2  {'neg': 0.0, 'neu': 0.961, 'pos': 0.039, 'comp...          0.3612  \n",
      "3  {'neg': 0.0, 'neu': 1.0, 'pos': 0.0, 'compound...          0.0000  \n",
      "4  {'neg': 0.0, 'neu': 1.0, 'pos': 0.0, 'compound...          0.0000  \n"
     ]
    }
   ],
   "source": [
    "print(df_vader.head())"
   ]
  },
  {
   "cell_type": "code",
   "execution_count": 20,
   "metadata": {},
   "outputs": [],
   "source": [
    "# # Analisis visual de los resultados de Vader\n",
    "# import matplotlib.pyplot as plt\n",
    "# import seaborn as sns\n",
    "\n",
    "# # Crear una figura con 2 subtramas\n",
    "# fig, axs = plt.subplots(1, 2, figsize=(15, 10))\n",
    "\n",
    "# # Mostrar la cantidad de comentarios por clasificación en la primera subtrama\n",
    "# sns.countplot(x='vader_classification', data=df_vader, ax=axs[0])\n",
    "# axs[0].set_title('Countplot')\n",
    "\n",
    "# # Mostrar la cantidad de comentarios por clasificación en la segunda subtrama\n",
    "# df_vader['vader_classification'].value_counts().plot(kind='pie', autopct='%1.0f%%', ax=axs[1])\n",
    "# axs[1].set_title('Pie chart with percentages')\n",
    "\n",
    "# # Ajustar el espacio entre las subtramas\n",
    "# plt.tight_layout()\n",
    "\n",
    "# plt.show()"
   ]
  },
  {
   "cell_type": "markdown",
   "metadata": {},
   "source": [
    "Este código crea varias nuevas columnas en el DataFrame. 'vader_scores' es una columna de diccionarios que contienen las puntuaciones de sentimiento VADER para cada comentario. 'vader_compound' es una columna de las puntuaciones compuestas, que son una combinación de las puntuaciones de sentimiento positivo, negativo y neutral. 'vader_classification' es una columna de clasificaciones de sentimiento basadas en las puntuaciones compuestas, donde '2' indica un sentimiento negativo, '1' indica un sentimiento neutral y '0' indica un sentimiento positivo."
   ]
  },
  {
   "cell_type": "markdown",
   "metadata": {},
   "source": [
    "# Diferencias entre Textblob y Vader\n",
    "TextBlob y VADER son dos bibliotecas populares para el análisis de sentimientos en Python, pero tienen enfoques diferentes y pueden ser más adecuadas para diferentes tipos de texto.\n",
    "\n",
    "**TextBlob** utiliza un enfoque basado en léxico para el análisis de sentimientos. Esto significa que tiene una lista predefinida de palabras, cada una de las cuales tiene una puntuación de sentimiento asociada que varía de -1 (muy negativa) a 1 (muy positiva). TextBlob simplemente suma las puntuaciones de todas las palabras en un texto para obtener una puntuación de sentimiento total. Este enfoque es simple y rápido, pero puede no capturar con precisión el sentimiento de textos más complejos, especialmente aquellos que usan sarcasmo, doble sentido o jerga.\n",
    "\n",
    "**VADER** (Valence Aware Dictionary and sEntiment Reasoner) también es un enfoque basado en léxico, pero es más sofisticado que TextBlob. VADER no solo tiene una lista de palabras con puntuaciones de sentimiento, sino que también tiene reglas gramaticales y sintácticas específicas para manejar cosas como intensificadores (por ejemplo, \"muy\" en \"muy bueno\"), connotaciones (por ejemplo, \"no\" en \"no bueno\"), emoticonos, acrónimos y jerga. Esto hace que VADER sea especialmente bueno para analizar el sentimiento en las redes sociales y otros textos informales.\n",
    "\n",
    "Dado que estamos analizando comentarios de YouTube, que son textos informales, VADER es probablemente una mejor opción que TextBlob."
   ]
  },
  {
   "cell_type": "markdown",
   "metadata": {},
   "source": [
    "## Eleccion de umbral para clasificar los comentarios como positivos, negativos o neutros\n",
    "Para el análisis exploratorio de los datos, podrías utilizar un histograma para visualizar la distribución de las puntuaciones de polaridad de Vader. Esto te permitirá ver dónde se encuentran la mayoría de las puntuaciones y podría ayudarte a elegir un umbral adecuado.\n"
   ]
  },
  {
   "cell_type": "code",
   "execution_count": 21,
   "metadata": {},
   "outputs": [
    {
     "data": {
      "image/png": "[encoded data removed]",
      "text/plain": [
       "<Figure size 640x480 with 1 Axes>"
      ]
     },
     "metadata": {},
     "output_type": "display_data"
    }
   ],
   "source": [
    "import matplotlib.pyplot as plt\n",
    "\n",
    "# Crear un histograma de las puntuaciones de polaridad\n",
    "plt.hist(df_vader['vader_compound'], bins=20)\n",
    "plt.xlabel('Puntuación de polaridad de Vader')\n",
    "plt.ylabel('Frecuencia')\n",
    "plt.show()"
   ]
  },
  {
   "cell_type": "code",
   "execution_count": 22,
   "metadata": {},
   "outputs": [],
   "source": [
    "df_vader['vader_classification'] = df_vader['vader_compound'].apply(lambda score: 1 if score < 0.0 else 0 if 0.0 <= score <= 0 else 2)"
   ]
  },
  {
   "cell_type": "code",
   "execution_count": 23,
   "metadata": {},
   "outputs": [
    {
     "data": {
      "image/png": "[encoded data removed]",
      "text/plain": [
       "<Figure size 600x600 with 1 Axes>"
      ]
     },
     "metadata": {},
     "output_type": "display_data"
    },
    {
     "data": {
      "image/png": "[encoded data removed]",
      "text/plain": [
       "<Figure size 800x600 with 1 Axes>"
      ]
     },
     "metadata": {},
     "output_type": "display_data"
    }
   ],
   "source": [
    "import matplotlib.pyplot as plt\n",
    "\n",
    "# Calcular los conteos de cada clasificación\n",
    "clasificaciones = df_vader['vader_classification'].value_counts()\n",
    "\n",
    "# Crear la gráfica de pastel\n",
    "plt.figure(figsize=(6,6))\n",
    "plt.pie(clasificaciones, labels=['Negativo', 'Neutral', 'Positivo'], autopct='%1.1f%%', colors=['red', 'blue', 'green'])\n",
    "plt.title('Distribución de las clasificaciones de sentimiento (Gráfico de pastel)')\n",
    "plt.show()\n",
    "\n",
    "# Crear la gráfica de barras\n",
    "plt.figure(figsize=(8,6))\n",
    "clasificaciones.plot(kind='bar', color=['red', 'blue', 'green'])\n",
    "plt.xlabel('Clasificación de sentimiento')\n",
    "plt.ylabel('Conteo')\n",
    "plt.title('Distribución de las clasificaciones de sentimiento (Gráfico de barras)')\n",
    "plt.xticks([0, 1, 2], ['Negativo', 'Neutral', 'Positivo'])\n",
    "plt.show()"
   ]
  },
  {
   "cell_type": "code",
   "execution_count": 33,
   "metadata": {},
   "outputs": [
    {
     "data": {
      "text/html": [
       "<div>\n",
       "<style scoped>\n",
       "    .dataframe tbody tr th:only-of-type {\n",
       "        vertical-align: middle;\n",
       "    }\n",
       "\n",
       "    .dataframe tbody tr th {\n",
       "        vertical-align: top;\n",
       "    }\n",
       "\n",
       "    .dataframe thead th {\n",
       "        text-align: right;\n",
       "    }\n",
       "</style>\n",
       "<table border=\"1\" class=\"dataframe\">\n",
       "  <thead>\n",
       "    <tr style=\"text-align: right;\">\n",
       "      <th></th>\n",
       "      <th>textDisplay</th>\n",
       "      <th>vader_scores</th>\n",
       "      <th>vader_compound</th>\n",
       "      <th>vader_classification</th>\n",
       "    </tr>\n",
       "  </thead>\n",
       "  <tbody>\n",
       "    <tr>\n",
       "      <th>1</th>\n",
       "      <td>lo unico que no me gusto de ese juego es que l...</td>\n",
       "      <td>{'neg': 0.075, 'neu': 0.925, 'pos': 0.0, 'comp...</td>\n",
       "      <td>-0.2960</td>\n",
       "      <td>1</td>\n",
       "    </tr>\n",
       "    <tr>\n",
       "      <th>10</th>\n",
       "      <td>Este juego me ayudo a entender algunas cosas.....</td>\n",
       "      <td>{'neg': 0.084, 'neu': 0.863, 'pos': 0.053, 'co...</td>\n",
       "      <td>-0.1027</td>\n",
       "      <td>1</td>\n",
       "    </tr>\n",
       "    <tr>\n",
       "      <th>13</th>\n",
       "      <td>Sin duda un video bastante completo que deja s...</td>\n",
       "      <td>{'neg': 0.188, 'neu': 0.812, 'pos': 0.0, 'comp...</td>\n",
       "      <td>-0.9371</td>\n",
       "      <td>1</td>\n",
       "    </tr>\n",
       "    <tr>\n",
       "      <th>14</th>\n",
       "      <td>Joder, lamentablemente empecé con estás crisis...</td>\n",
       "      <td>{'neg': 0.047, 'neu': 0.953, 'pos': 0.0, 'comp...</td>\n",
       "      <td>-0.6249</td>\n",
       "      <td>1</td>\n",
       "    </tr>\n",
       "    <tr>\n",
       "      <th>18</th>\n",
       "      <td>Q hermoso juego, en su momento me encantó por ...</td>\n",
       "      <td>{'neg': 0.094, 'neu': 0.906, 'pos': 0.0, 'comp...</td>\n",
       "      <td>-0.5707</td>\n",
       "      <td>1</td>\n",
       "    </tr>\n",
       "    <tr>\n",
       "      <th>...</th>\n",
       "      <td>...</td>\n",
       "      <td>...</td>\n",
       "      <td>...</td>\n",
       "      <td>...</td>\n",
       "    </tr>\n",
       "    <tr>\n",
       "      <th>361</th>\n",
       "      <td>Hola, primero un saludo para tu grandioso cont...</td>\n",
       "      <td>{'neg': 0.081, 'neu': 0.919, 'pos': 0.0, 'comp...</td>\n",
       "      <td>-0.7783</td>\n",
       "      <td>1</td>\n",
       "    </tr>\n",
       "    <tr>\n",
       "      <th>370</th>\n",
       "      <td>Yo luego de quedarme calvo tras intentar conse...</td>\n",
       "      <td>{'neg': 0.109, 'neu': 0.891, 'pos': 0.0, 'comp...</td>\n",
       "      <td>-0.2960</td>\n",
       "      <td>1</td>\n",
       "    </tr>\n",
       "    <tr>\n",
       "      <th>373</th>\n",
       "      <td>Y al final no entendí como superar la ansiedad 😢</td>\n",
       "      <td>{'neg': 0.371, 'neu': 0.629, 'pos': 0.0, 'comp...</td>\n",
       "      <td>-0.6486</td>\n",
       "      <td>1</td>\n",
       "    </tr>\n",
       "    <tr>\n",
       "      <th>374</th>\n",
       "      <td>Hermano, muchas gracias, sufro mucho de ansied...</td>\n",
       "      <td>{'neg': 0.089, 'neu': 0.911, 'pos': 0.0, 'comp...</td>\n",
       "      <td>-0.7783</td>\n",
       "      <td>1</td>\n",
       "    </tr>\n",
       "    <tr>\n",
       "      <th>408</th>\n",
       "      <td>Últimamente la gente le tira odio a Celeste, O...</td>\n",
       "      <td>{'neg': 0.041, 'neu': 0.959, 'pos': 0.0, 'comp...</td>\n",
       "      <td>-0.5267</td>\n",
       "      <td>1</td>\n",
       "    </tr>\n",
       "  </tbody>\n",
       "</table>\n",
       "<p>92 rows × 4 columns</p>\n",
       "</div>"
      ],
      "text/plain": [
       "                                           textDisplay  \\\n",
       "1    lo unico que no me gusto de ese juego es que l...   \n",
       "10   Este juego me ayudo a entender algunas cosas.....   \n",
       "13   Sin duda un video bastante completo que deja s...   \n",
       "14   Joder, lamentablemente empecé con estás crisis...   \n",
       "18   Q hermoso juego, en su momento me encantó por ...   \n",
       "..                                                 ...   \n",
       "361  Hola, primero un saludo para tu grandioso cont...   \n",
       "370  Yo luego de quedarme calvo tras intentar conse...   \n",
       "373   Y al final no entendí como superar la ansiedad 😢   \n",
       "374  Hermano, muchas gracias, sufro mucho de ansied...   \n",
       "408  Últimamente la gente le tira odio a Celeste, O...   \n",
       "\n",
       "                                          vader_scores  vader_compound  \\\n",
       "1    {'neg': 0.075, 'neu': 0.925, 'pos': 0.0, 'comp...         -0.2960   \n",
       "10   {'neg': 0.084, 'neu': 0.863, 'pos': 0.053, 'co...         -0.1027   \n",
       "13   {'neg': 0.188, 'neu': 0.812, 'pos': 0.0, 'comp...         -0.9371   \n",
       "14   {'neg': 0.047, 'neu': 0.953, 'pos': 0.0, 'comp...         -0.6249   \n",
       "18   {'neg': 0.094, 'neu': 0.906, 'pos': 0.0, 'comp...         -0.5707   \n",
       "..                                                 ...             ...   \n",
       "361  {'neg': 0.081, 'neu': 0.919, 'pos': 0.0, 'comp...         -0.7783   \n",
       "370  {'neg': 0.109, 'neu': 0.891, 'pos': 0.0, 'comp...         -0.2960   \n",
       "373  {'neg': 0.371, 'neu': 0.629, 'pos': 0.0, 'comp...         -0.6486   \n",
       "374  {'neg': 0.089, 'neu': 0.911, 'pos': 0.0, 'comp...         -0.7783   \n",
       "408  {'neg': 0.041, 'neu': 0.959, 'pos': 0.0, 'comp...         -0.5267   \n",
       "\n",
       "     vader_classification  \n",
       "1                       1  \n",
       "10                      1  \n",
       "13                      1  \n",
       "14                      1  \n",
       "18                      1  \n",
       "..                    ...  \n",
       "361                     1  \n",
       "370                     1  \n",
       "373                     1  \n",
       "374                     1  \n",
       "408                     1  \n",
       "\n",
       "[92 rows x 4 columns]"
      ]
     },
     "execution_count": 33,
     "metadata": {},
     "output_type": "execute_result"
    }
   ],
   "source": [
    "# Print de comentarios neutrales, que son los que estan con 0 despues de la clasificacion\n",
    "df_vader[df_vader.vader_classification == 1]\n",
    "\n"
   ]
  },
  {
   "cell_type": "code",
   "execution_count": 29,
   "metadata": {},
   "outputs": [
    {
     "data": {
      "text/plain": [
       "'hace años jugue al Celeste, no llegue al interior de la montaña y deje el juego por ninguna razon en especifico. En ese entonces yo no tenia el criterio suficiente como para darme cuenta de lo que el juego me queria contar, gracias a tu video me doy cuenta de que debo darle otra oportunidad a este juegazo. Es increiblemente complicado, pero si puedo con el, puedo con todo'"
      ]
     },
     "execution_count": 29,
     "metadata": {},
     "output_type": "execute_result"
    }
   ],
   "source": [
    "df_vader.iloc[18]['textDisplay']"
   ]
  },
  {
   "cell_type": "code",
   "execution_count": 34,
   "metadata": {},
   "outputs": [
    {
     "name": "stdout",
     "output_type": "stream",
     "text": [
      "{'neg': 0.094, 'neu': 0.906, 'pos': 0.0, 'compound': -0.5707}\n"
     ]
    }
   ],
   "source": [
    "from vaderSentiment.vaderSentiment import SentimentIntensityAnalyzer\n",
    "\n",
    "# Crear un objeto SentimentIntensityAnalyzer\n",
    "analyzer = SentimentIntensityAnalyzer()\n",
    "\n",
    "# Texto a analizar\n",
    "texto = \"Q hermoso juego, en su momento me encantó por lo desafiante q me resulto... Hoy, lo estoy x terminar nuevamente, pero no lo juego x lo desafiante, si no xq me hace sentir comprendido en esta etapa de mi vida q estoy intentando atravesar. Un juego maravilloso!\"\n",
    "\n",
    "# Calcular las puntuaciones de sentimiento\n",
    "puntuaciones = analyzer.polarity_scores(texto)\n",
    "\n",
    "print(puntuaciones)"
   ]
  },
  {
   "cell_type": "code",
   "execution_count": 25,
   "metadata": {},
   "outputs": [
    {
     "name": "stdout",
     "output_type": "stream",
     "text": [
      "2     Compre celeste para switch, me ayudo mucho en ...\n",
      "5     Celeste llego en el momento que mas lo necesit...\n",
      "12                JAJAJAJAJAJ preguntenle a farewell XD\n",
      "16    Suena muy, muy interesando. Hiciste una descri...\n",
      "21    Morí 3268 veces haciendo farewell, fue toda un...\n",
      "24                                                    😊\n",
      "25    Wao... no imaginé que el video sería así... no...\n",
      "32        Vaya, me dejaste con un nudo en la garganta ❤\n",
      "44    Lol Si no hay mas ansiedad que la que se sient...\n",
      "49             A mi no me ha solucionado la ansiedad xd\n",
      "Name: textDisplay, dtype: object\n"
     ]
    }
   ],
   "source": [
    "# Print de comentarios negativos, que son los que estan con 2 despues de la clasificacion\n",
    "print(df_vader[df_vader.vader_classification == 2].textDisplay.head(10))"
   ]
  },
  {
   "cell_type": "code",
   "execution_count": null,
   "metadata": {},
   "outputs": [],
   "source": [
    "# Print de comentarios positivos, que son los que estan con 0 despues de la clasificacion\n",
    "print(df_vader[df_vader.vader_classification == 0].textDisplay.head(10))"
   ]
  },
  {
   "cell_type": "code",
   "execution_count": null,
   "metadata": {},
   "outputs": [],
   "source": [
    "# mostrar los comentarios positivos segun vader_compound\n",
    "\n",
    "print(df_vader[df_vader.vader_compound > 0.0].textDisplay.head(10))"
   ]
  },
  {
   "cell_type": "code",
   "execution_count": null,
   "metadata": {},
   "outputs": [],
   "source": [
    "positive_comments_count = df_vader[df_vader['vader_compound'] == 0]['vader_compound'].count()\n",
    "print(\"Count of positive comments:\", positive_comments_count)"
   ]
  },
  {
   "cell_type": "code",
   "execution_count": null,
   "metadata": {},
   "outputs": [],
   "source": [
    "import matplotlib.pyplot as plt\n",
    "import numpy as np\n",
    "from kneed import KneeLocator\n",
    "\n",
    "# Usa tus datos reales\n",
    "sentiment_intensity = df_vader['vader_scores'].apply(lambda scores: scores['compound']).values\n",
    "polarity_score = df_vader['vader_compound'].values\n",
    "\n",
    "# Trazar la puntuación de polaridad en función de la intensidad del sentimiento\n",
    "plt.plot(sentiment_intensity, polarity_score, 'o-')\n",
    "plt.xlabel('Intensidad del sentimiento')\n",
    "plt.ylabel('Puntuación de polaridad')\n",
    "plt.title('Relación entre la intensidad del sentimiento y la puntuación de polaridad')\n",
    "\n",
    "# Identificar el punto de inflexión\n",
    "knee_locator = KneeLocator(sentiment_intensity, polarity_score, curve='convex', direction='decreasing')\n",
    "plt.vlines(knee_locator.knee, plt.ylim()[0], plt.ylim()[1], linestyles='dashed')\n",
    "\n",
    "plt.show()\n",
    "\n",
    "print(f\"El umbral de polaridad para el punto de inflexión es: {knee_locator.knee}\")"
   ]
  },
  {
   "cell_type": "code",
   "execution_count": null,
   "metadata": {},
   "outputs": [],
   "source": [
    "umbral = knee_locator.knee\n",
    "\n",
    "print(umbral)"
   ]
  },
  {
   "cell_type": "code",
   "execution_count": null,
   "metadata": {},
   "outputs": [],
   "source": [
    "# Asignamos un 1 si el comentario es menor que el umbral, 0 si es mayor y 2 si es igual"
   ]
  },
  {
   "cell_type": "code",
   "execution_count": null,
   "metadata": {},
   "outputs": [],
   "source": [
    "df_vader['classification_threshold'] = df_vader['vader_compound'].apply(lambda score: 1 if score < umbral else 0 if umbral <= score <= 0 else 2)"
   ]
  },
  {
   "cell_type": "code",
   "execution_count": null,
   "metadata": {},
   "outputs": [],
   "source": [
    "import matplotlib.pyplot as plt\n",
    "\n",
    "# Calcular los porcentajes de cada clasificación\n",
    "clasificaciones1 = df_vader['vader_classification'].value_counts(normalize=True)\n",
    "clasificaciones2 = df_vader['classification_threshold'].value_counts(normalize=True)\n",
    "\n",
    "fig, axs = plt.subplots(1, 2, figsize=(10, 5))\n",
    "\n",
    "# Crear la primera gráfica de pastel\n",
    "axs[0].pie(clasificaciones1, labels=['Negativo', 'Neutral', 'Positivo'], autopct='%1.1f%%')\n",
    "axs[0].set_title('Clasificación con umbral de -0.3')\n",
    "\n",
    "# Crear la segunda gráfica de pastel\n",
    "axs[1].pie(clasificaciones2, labels=['Negativo', 'Neutral', 'Positivo'], autopct='%1.1f%%')\n",
    "axs[1].set_title('Clasificación con umbral de -0.4874')\n",
    "\n",
    "# Mostrar las gráficas\n",
    "plt.show()"
   ]
  },
  {
   "cell_type": "code",
   "execution_count": null,
   "metadata": {},
   "outputs": [],
   "source": [
    "# Importar las librerías necesarias\n",
    "import pandas as pd\n",
    "import matplotlib.pyplot as plt\n",
    "from vaderSentiment.vaderSentiment import SentimentIntensityAnalyzer\n",
    "\n",
    "# Crear un objeto de análisis de sentimientos\n",
    "vader = SentimentIntensityAnalyzer()\n",
    "\n",
    "# Aplicar Vader a los comentarios y obtener la puntuación de polaridad\n",
    "df_vader[\"vader_compound\"] = df_vader[\"textDisplay\"].apply(lambda x: vader.polarity_scores(x)[\"compound\"])\n",
    "\n",
    "# Calcular la intensidad del sentimiento como el valor absoluto de la puntuación de polaridad\n",
    "df_vader[\"sentiment_intensity\"] = df_vader[\"vader_compound\"].abs()\n",
    "\n",
    "# Ordenar el dataframe por la intensidad del sentimiento\n",
    "df_vader = df_vader.sort_values(by=\"sentiment_intensity\")\n",
    "\n",
    "# Graficar la relación entre la intensidad del sentimiento y la puntuación de polaridad\n",
    "plt.plot(df_vader[\"sentiment_intensity\"], df_vader[\"vader_compound\"], color=\"blue\")\n",
    "plt.xlabel(\"Intensidad del sentimiento\")\n",
    "plt.ylabel(\"Puntuación de polaridad\")\n",
    "plt.title(\"Relación entre la intensidad del sentimiento y la puntuación de polaridad\")\n",
    "\n",
    "# Marcar el punto de inflexión con una línea vertical\n",
    "plt.axvline(x=-0.4874, color=\"red\", linestyle=\"--\")\n",
    "plt.show()\n"
   ]
  },
  {
   "cell_type": "code",
   "execution_count": null,
   "metadata": {},
   "outputs": [],
   "source": [
    "df_vader"
   ]
  }
 ],
 "metadata": {
  "kernelspec": {
   "display_name": "Python 3",
   "language": "python",
   "name": "python3"
  },
  "language_info": {
   "codemirror_mode": {
    "name": "ipython",
    "version": 3
   },
   "file_extension": ".py",
   "mimetype": "text/x-python",
   "name": "python",
   "nbconvert_exporter": "python",
   "pygments_lexer": "ipython3",
   "version": "3.12.1"
  }
 },
 "nbformat": 4,
 "nbformat_minor": 2
}
